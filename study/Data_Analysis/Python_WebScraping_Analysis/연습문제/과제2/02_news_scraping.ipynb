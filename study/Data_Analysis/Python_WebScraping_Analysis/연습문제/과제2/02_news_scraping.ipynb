{
 "cells": [
  {
   "cell_type": "code",
   "execution_count": null,
   "id": "7ec2993e",
   "metadata": {},
   "outputs": [
    {
     "name": "stdout",
     "output_type": "stream",
     "text": [
      "\n",
      "===== 최신뉴스 뉴스 =====\n",
      "URL: https://news.nate.com/recent?mid=n0100\n",
      "\n",
      "\n",
      "===== 정치 뉴스 =====\n",
      "URL: https://news.nate.com/section?mid=n0200\n",
      "\n",
      "\n",
      "===== 경제 뉴스 =====\n",
      "URL: https://news.nate.com/section?mid=n0300\n",
      "\n",
      "\n",
      "===== 사회 뉴스 =====\n",
      "URL: https://news.nate.com/section?mid=n0400\n",
      "\n",
      "\n",
      "===== 세계 뉴스 =====\n",
      "URL: https://news.nate.com/section?mid=n0500\n",
      "\n",
      "\n",
      "===== IT/과학 뉴스 =====\n",
      "URL: https://news.nate.com/section?mid=n0600\n",
      "\n"
     ]
    }
   ],
   "source": [
    "import requests\n",
    "from bs4 import BeautifulSoup\n",
    "from urllib.parse import urljoin\n",
    "from IPython.display import Image, display\n",
    "\n",
    "section_dict = {\n",
    "    '최신뉴스': 100,\n",
    "    '정치': 200,\n",
    "    '경제': 300,\n",
    "    '사회': 400,\n",
    "    '세계': 500,\n",
    "    'IT/과학': 600\n",
    "}\n",
    "\n",
    "def print_news(section_name):\n",
    "    sid = section_dict[section_name]\n",
    "\n",
    "    if section_name == '최신뉴스':\n",
    "        url = f'https://news.nate.com/recent?mid=n0{sid}'\n",
    "    else:\n",
    "        url = f'https://news.nate.com/section?mid=n0{sid}'\n",
    "\n",
    "    print(f'\\n===== {section_name} 뉴스 =====\\nURL: {url}\\n')\n",
    "\n",
    "    headers = {\n",
    "        \"User-Agent\": \"Mozilla/5.0 (Windows NT 10.0; Win64; x64)\"\n",
    "    }\n",
    "\n",
    "    res = requests.get(url, headers=headers)\n",
    "    \n",
    "    if not res.ok:\n",
    "        print(f\"접속 실패: 상태 코드 {res.status_code}\")\n",
    "        return\n",
    "\n",
    "    soup = BeautifulSoup(res.text, 'html.parser')\n",
    "\n",
    "    # 뉴스 항목들 찾기 (최신뉴스와 섹션뉴스 동일 구조 사용)\n",
    "    news_items = soup.select(\"div.post\")\n",
    "\n",
    "    for idx, item in enumerate(news_items[:10], 1): \n",
    "        a_tag = item.select_one(\"a[href*='//news.nate.com/view'].sa_text_title\")\n",
    "        if not a_tag:\n",
    "            continue\n",
    "\n",
    "        title = a_tag.get_text(strip=True)\n",
    "        link = a_tag['href']\n",
    "\n",
    "        print(f\"{idx}. {title}\")\n",
    "        print(f\"링크: {link}\")\n",
    "\n",
    "# 테스트 예시\n",
    "for section in section_dict:\n",
    "    print_news(section)\n"
   ]
  },
  {
   "cell_type": "code",
   "execution_count": 31,
   "id": "09b6d947",
   "metadata": {},
   "outputs": [
    {
     "name": "stdout",
     "output_type": "stream",
     "text": [
      "\n",
      "--- 최신뉴스 뉴스 ---\n",
      "스크래핑 URL: https://news.nate.com/recent?mid=n0100\n",
      "상태 코드: 200, OK: True\n",
      "총 20개의 뉴스 아이템 발견.\n",
      "\n",
      "1.\n",
      "   제목: 감보아 7이닝 무실점 '호투'→김태형 감독 \"완벽한 투구 펼쳤어\" 칭찬 [SS고척in]\n",
      "\t\t\t\t\t\t\t\t\t\t\t\t\t\t\t\t\t롯데 김태형 감독이 승리한 뒤 모자를 벗어 팬들에게 인사를 하고 있다. 고척 | 박진업 기자 upandup@sportsseoul.com [스포츠서울 | 고척=박연준 기자] 롯데가 선발 알렉 ...\n",
      "   링크: //news.nate.com/view/20250724n41294?mid=n0100\n",
      "   이미지 URL: https://thumbnews.nateimg.co.kr/news90///news.nateimg.co.kr/orgImg/sp/2025/07/24/news-p.v1.20250724.67adc8707949458bb5608b0ccbb23ad1_P1.jpg\n"
     ]
    },
    {
     "data": {
      "text/html": [
       "<img src=\"https://thumbnews.nateimg.co.kr/news90///news.nateimg.co.kr/orgImg/sp/2025/07/24/news-p.v1.20250724.67adc8707949458bb5608b0ccbb23ad1_P1.jpg\" width=\"150\"/>"
      ],
      "text/plain": [
       "<IPython.core.display.Image object>"
      ]
     },
     "metadata": {},
     "output_type": "display_data"
    },
    {
     "name": "stdout",
     "output_type": "stream",
     "text": [
      "\n",
      "2.\n",
      "   제목: 폭우 쏟아지는 등교길, 여고생에 우산 건넨 시민…현관문 앞서 울컥, 왜?\n",
      "\t\t\t\t\t\t\t\t\t\t\t\t\t\t\t\t\tA씨가 여고생들에게 빌려준 우산(왼쪽)과 답례로 받은 복숭아와 감자. /보배드림폭우가 쏟아지던 등교 시간, 고장 난 우산으로 당황하던 여고생들에게 우산을 빌려준 40대 ...\n",
      "   링크: //news.nate.com/view/20250724n41281?mid=n0100\n",
      "   이미지 URL: https://thumbnews.nateimg.co.kr/news90///news.nateimg.co.kr/orgImg/ch/2025/07/24/ch_1753360264936_39787_0.jpg\n"
     ]
    },
    {
     "data": {
      "text/html": [
       "<img src=\"https://thumbnews.nateimg.co.kr/news90///news.nateimg.co.kr/orgImg/ch/2025/07/24/ch_1753360264936_39787_0.jpg\" width=\"150\"/>"
      ],
      "text/plain": [
       "<IPython.core.display.Image object>"
      ]
     },
     "metadata": {},
     "output_type": "display_data"
    },
    {
     "name": "stdout",
     "output_type": "stream",
     "text": [
      "\n",
      "3.\n",
      "   제목: 이봉주, 처조카 입양해 아들처럼 키웠다…아내 \"쉬운 일 아닌데 먼저 제안\" 감동\n",
      "\t\t\t\t\t\t\t\t\t\t\t\t\t\t\t\t\t[조이뉴스24 이지영 기자]마라토너 이봉주가 처조카를 입양해 키운 사연을 전했다.23일 방송된 tvN '유 퀴즈 온 더 블럭'에는 이봉주와 그의 아내 김미순 씨가 출연했다.이...\n",
      "   링크: //news.nate.com/view/20250724n41292?mid=n0100\n",
      "   이미지 URL: https://thumbnews.nateimg.co.kr/news90///news.nateimg.co.kr/orgImg/jn/2025/07/24/451929ddeab3b4.jpg\n"
     ]
    },
    {
     "data": {
      "text/html": [
       "<img src=\"https://thumbnews.nateimg.co.kr/news90///news.nateimg.co.kr/orgImg/jn/2025/07/24/451929ddeab3b4.jpg\" width=\"150\"/>"
      ],
      "text/plain": [
       "<IPython.core.display.Image object>"
      ]
     },
     "metadata": {},
     "output_type": "display_data"
    },
    {
     "name": "stdout",
     "output_type": "stream",
     "text": [
      "\n",
      "4.\n",
      "   제목: [ST포토] 노시환, 하나만 걸려라\n",
      "\t\t\t\t\t\t\t\t\t\t\t\t\t\t\t\t\t[스포츠투데이 권광일 기자] 2025 신한은행 SOL Bank KBO리그 한화 이글스와 두산 베어스의 경기가 24일 서울 잠실야구장에서 열렸다. 한화 노시환이 9회초 1사2루에서 타...\n",
      "   링크: //news.nate.com/view/20250724n41291?mid=n0100\n",
      "   이미지 URL: https://thumbnews.nateimg.co.kr/news90///news.nateimg.co.kr/orgImg/st/2025/07/24/24_1016930_36389.jpg\n"
     ]
    },
    {
     "data": {
      "text/html": [
       "<img src=\"https://thumbnews.nateimg.co.kr/news90///news.nateimg.co.kr/orgImg/st/2025/07/24/24_1016930_36389.jpg\" width=\"150\"/>"
      ],
      "text/plain": [
       "<IPython.core.display.Image object>"
      ]
     },
     "metadata": {},
     "output_type": "display_data"
    },
    {
     "name": "stdout",
     "output_type": "stream",
     "text": [
      "\n",
      "5.\n",
      "   제목: 황선우와 김우민이 싱가포르에서 그릴 '어게인 도하'…\"개인전과 단체전 모두 기대해\"\n",
      "\t\t\t\t\t\t\t\t\t\t\t\t\t\t\t\t\t한국수영대표팀이 싱가포르에서 진행 중인 2025세계수영선수권대회에서 가장 기대하는 종목은 경영이다. 황선우(22)와 김우민(24·이상 강원도청) 등 세계정상급 선수들을 ...\n",
      "   링크: //news.nate.com/view/20250724n41290?mid=n0100\n",
      "   이미지 URL: https://thumbnews.nateimg.co.kr/news90///news.nateimg.co.kr/orgImg/sd/2025/07/24/132064668.1.jpg\n"
     ]
    },
    {
     "data": {
      "text/html": [
       "<img src=\"https://thumbnews.nateimg.co.kr/news90///news.nateimg.co.kr/orgImg/sd/2025/07/24/132064668.1.jpg\" width=\"150\"/>"
      ],
      "text/plain": [
       "<IPython.core.display.Image object>"
      ]
     },
     "metadata": {},
     "output_type": "display_data"
    },
    {
     "name": "stdout",
     "output_type": "stream",
     "text": [
      "\n",
      "6.\n",
      "   제목: [MD포토] 홍민기 '다이나믹 투구'\n",
      "\t\t\t\t\t\t\t\t\t\t\t\t\t\t\t\t\t[마이데일리 = 유진형 기자] 24일 오후 서울 고척스카이돔에서 열린 '2025 신한 SOL뱅크 KBO 리그' 롯데 자이언츠와 키움 히어로즈의 경기.롯데 홍민기가 9회말 구원등판해...\n",
      "   링크: //news.nate.com/view/20250724n41289?mid=n0100\n",
      "   이미지 URL: https://thumbnews.nateimg.co.kr/news90///news.nateimg.co.kr/orgImg/my/2025/07/24/2025072421304388217_l.jpg\n"
     ]
    },
    {
     "data": {
      "text/html": [
       "<img src=\"https://thumbnews.nateimg.co.kr/news90///news.nateimg.co.kr/orgImg/my/2025/07/24/2025072421304388217_l.jpg\" width=\"150\"/>"
      ],
      "text/plain": [
       "<IPython.core.display.Image object>"
      ]
     },
     "metadata": {},
     "output_type": "display_data"
    },
    {
     "name": "stdout",
     "output_type": "stream",
     "text": [
      "\n",
      "7.\n",
      "   제목: \"강선우도 사퇴했는데 갑질 공무원은 자리 유지?\"…'파면하라' 난리 난 화성시\n",
      "\t\t\t\t\t\t\t\t\t\t\t\t\t\t\t\t\t[헤럴드경제=김성훈 기자] 경기도 화성시청 소속 6급 공무원이 초등학생 자녀의 담임교사에게 폭언을 한 사실이 알려져 직위해제된 가운데, 화성시청에 ‘갑질 공무원을 파...\n",
      "   링크: //news.nate.com/view/20250724n41288?mid=n0100\n",
      "   이미지 URL: https://thumbnews.nateimg.co.kr/news90///news.nateimg.co.kr/orgImg/hr/2025/07/24/news-p.v1.20250724.eb84a68a716c4c04bea33a87d1925755_P1.jpg\n"
     ]
    },
    {
     "data": {
      "text/html": [
       "<img src=\"https://thumbnews.nateimg.co.kr/news90///news.nateimg.co.kr/orgImg/hr/2025/07/24/news-p.v1.20250724.eb84a68a716c4c04bea33a87d1925755_P1.jpg\" width=\"150\"/>"
      ],
      "text/plain": [
       "<IPython.core.display.Image object>"
      ]
     },
     "metadata": {},
     "output_type": "display_data"
    },
    {
     "name": "stdout",
     "output_type": "stream",
     "text": [
      "\n",
      "8.\n",
      "   제목: 전현무, 아는 척하다 '뜨끔' 민망해져…'카이스트' 윤소희에 저지당했다 [브레인 아카데미]\n",
      "\t\t\t\t\t\t\t\t\t\t\t\t\t\t\t\t\t채널A '브레인 아카데미'/채널A '브레인 아카데미'[마이데일리 = 강다윤 기자] 아나운서 출신 방송인 전현무가 '찐 MZ' 윤소희의 지적에 '뜨끔'하는 민망 사태가 벌어진다....\n",
      "   링크: //news.nate.com/view/20250724n41287?mid=n0100\n",
      "   이미지 URL: https://thumbnews.nateimg.co.kr/news90///news.nateimg.co.kr/orgImg/my/2025/07/24/2025072411125798445_l.jpg\n"
     ]
    },
    {
     "data": {
      "text/html": [
       "<img src=\"https://thumbnews.nateimg.co.kr/news90///news.nateimg.co.kr/orgImg/my/2025/07/24/2025072411125798445_l.jpg\" width=\"150\"/>"
      ],
      "text/plain": [
       "<IPython.core.display.Image object>"
      ]
     },
     "metadata": {},
     "output_type": "display_data"
    },
    {
     "name": "stdout",
     "output_type": "stream",
     "text": [
      "\n",
      "9.\n",
      "   제목: '尹 1호 거부권' 양곡관리법, 여야 합의로 농해수위 소위 통과\n",
      "\t\t\t\t\t\t\t\t\t\t\t\t\t\t\t\t\t정부재량권 늘리고, 가격 안정제 빼다음달 4일 본회의 처리 전망윤석열 전 대통령이 재임 이후 첫 재의요구권(거부권)을 행사했던 양곡관리법 개정안이 24일 여야 합의로 ...\n",
      "   링크: //news.nate.com/view/20250724n41286?mid=n0100\n",
      "   이미지 URL: https://thumbnews.nateimg.co.kr/news90///news.nateimg.co.kr/orgImg/hi/2025/07/24/3e1326aa-e631-4927-89cf-beb5a721a3af.jpg\n"
     ]
    },
    {
     "data": {
      "text/html": [
       "<img src=\"https://thumbnews.nateimg.co.kr/news90///news.nateimg.co.kr/orgImg/hi/2025/07/24/3e1326aa-e631-4927-89cf-beb5a721a3af.jpg\" width=\"150\"/>"
      ],
      "text/plain": [
       "<IPython.core.display.Image object>"
      ]
     },
     "metadata": {},
     "output_type": "display_data"
    },
    {
     "name": "stdout",
     "output_type": "stream",
     "text": [
      "\n",
      "10.\n",
      "   제목: [돌비뉴스] \"당직자 걷어차놓고\"…송언석, 강선우 공격할수록 손해?\n",
      "\t\t\t\t\t\t\t\t\t\t\t\t\t\t\t\t\t[기자]< 과거는 묻지 마세요? >이른바 '갑질' 논란으로 강선우 의원이 자진 사퇴를 하자 국민의힘에서는 오히려 공격 수위를 더 높이고 있습니다.이번에는 아예 의원...\n",
      "   링크: //news.nate.com/view/20250724n41285?mid=n0100\n",
      "   이미지 URL: https://thumbnews.nateimg.co.kr/news90///news.nateimg.co.kr/orgImg/jt/2025/07/24/20250724194618723001.jpg\n"
     ]
    },
    {
     "data": {
      "text/html": [
       "<img src=\"https://thumbnews.nateimg.co.kr/news90///news.nateimg.co.kr/orgImg/jt/2025/07/24/20250724194618723001.jpg\" width=\"150\"/>"
      ],
      "text/plain": [
       "<IPython.core.display.Image object>"
      ]
     },
     "metadata": {},
     "output_type": "display_data"
    },
    {
     "name": "stdout",
     "output_type": "stream",
     "text": [
      "\n",
      "11.\n",
      "   제목: 삼성 4연승 막았다…SSG, 안상현·고명준 홈런+불펜 무실점 앞세워 '6연패 탈출' [대구:스코어]\n",
      "\t\t\t\t\t\t\t\t\t\t\t\t\t\t\t\t\t(엑스포츠뉴스 대구, 유준상 기자) SSG 랜더스가 6연패 탈출과 함께 주중 3연전을 끝냈다. 이숭용 감독이 이끄는 SSG는 24일 대구삼성라이온즈파크에서 열린 2025 신한 SOL...\n",
      "   링크: //news.nate.com/view/20250724n41284?mid=n0100\n",
      "   이미지 URL: https://thumbnews.nateimg.co.kr/news90///news.nateimg.co.kr/orgImg/xs/2025/07/24/1753357891631627.jpg\n"
     ]
    },
    {
     "data": {
      "text/html": [
       "<img src=\"https://thumbnews.nateimg.co.kr/news90///news.nateimg.co.kr/orgImg/xs/2025/07/24/1753357891631627.jpg\" width=\"150\"/>"
      ],
      "text/plain": [
       "<IPython.core.display.Image object>"
      ]
     },
     "metadata": {},
     "output_type": "display_data"
    },
    {
     "name": "stdout",
     "output_type": "stream",
     "text": [
      "\n",
      "12.\n",
      "   제목: \"돈 빌려 도박한 게 누군데? 지가 뭐라고 내 이야기 해\" 신정환, 슈 저격\n",
      "\t\t\t\t\t\t\t\t\t\t\t\t\t\t\t\t\t[스포티비뉴스=배선영 기자] 신정환이 S.E.S. 멤버 슈를 저격했다. 신정환은 지난 21일 유튜브 채널 ‘채널고정해’의 ‘이번에는 사기 도박이다…?!’라는 제목의 영상에 ...\n",
      "   링크: //news.nate.com/view/20250724n41283?mid=n0100\n",
      "   이미지 URL: https://thumbnews.nateimg.co.kr/news90///news.nateimg.co.kr/orgImg/su/2025/07/24/760987_1221581_739.png\n"
     ]
    },
    {
     "data": {
      "text/html": [
       "<img src=\"https://thumbnews.nateimg.co.kr/news90///news.nateimg.co.kr/orgImg/su/2025/07/24/760987_1221581_739.png\" width=\"150\"/>"
      ],
      "text/plain": [
       "<IPython.core.display.Image object>"
      ]
     },
     "metadata": {},
     "output_type": "display_data"
    },
    {
     "name": "stdout",
     "output_type": "stream",
     "text": [
      "\n",
      "13.\n",
      "   제목: 불볕더위에 서울서 하루 새 온열질환자 5명 늘어…누적 175명\n",
      "\t\t\t\t\t\t\t\t\t\t\t\t\t\t\t\t\t서울 전역에 폭염경보가 내려진 24일 서울 용산구 국립중앙박물관에서 시민들이 양산을 쓰고 뜨거운 햇빛을 가리고 있다. 2025.7.24/뉴스1 ⓒ News1 김민지 기자 (서울=뉴...\n",
      "   링크: //news.nate.com/view/20250724n41282?mid=n0100\n",
      "   이미지 URL: https://thumbnews.nateimg.co.kr/news90///news.nateimg.co.kr/orgImg/na/2025/07/24/7411243_high.jpg\n"
     ]
    },
    {
     "data": {
      "text/html": [
       "<img src=\"https://thumbnews.nateimg.co.kr/news90///news.nateimg.co.kr/orgImg/na/2025/07/24/7411243_high.jpg\" width=\"150\"/>"
      ],
      "text/plain": [
       "<IPython.core.display.Image object>"
      ]
     },
     "metadata": {},
     "output_type": "display_data"
    },
    {
     "name": "stdout",
     "output_type": "stream",
     "text": [
      "\n",
      "14.\n",
      "   제목: WSJ \"앱스타인 파일에 트럼프 이름\" 백악관 \"가짜 뉴스\"\n",
      "\t\t\t\t\t\t\t\t\t\t\t\t\t\t\t\t\t미국 정가 ‘태풍의 눈’으로 부상한 금융 갑부 출신 성범죄자 제프리 엡스타인(2019년 사망) 관련 파일에 도널드 트럼프 미국 대통령 이름이 누차 적시돼 있다고 월스트리...\n",
      "   링크: //news.nate.com/view/20250724n41280?mid=n0100\n",
      "   이미지 URL: https://thumbnews.nateimg.co.kr/news90///news.nateimg.co.kr/orgImg/mh/2025/07/24/news-p.v1.20250724.8ee07219d8e64d02bb203b55b6b2f90d_P1.jpg\n"
     ]
    },
    {
     "data": {
      "text/html": [
       "<img src=\"https://thumbnews.nateimg.co.kr/news90///news.nateimg.co.kr/orgImg/mh/2025/07/24/news-p.v1.20250724.8ee07219d8e64d02bb203b55b6b2f90d_P1.jpg\" width=\"150\"/>"
      ],
      "text/plain": [
       "<IPython.core.display.Image object>"
      ]
     },
     "metadata": {},
     "output_type": "display_data"
    },
    {
     "name": "stdout",
     "output_type": "stream",
     "text": [
      "\n",
      "15.\n",
      "   제목: 공군 수송기, 소통 착오로 일본 영공 침범…日전투기 출격\n",
      "\t\t\t\t\t\t\t\t\t\t\t\t\t\t\t\t\t정부가 이스라엘로 급파한 군 수송기(KC330) '시그너스'가 14일 저녁 경기 성남 서울공항으로 무사히 도착했다.[사진=사진공동취재단]한국 공군 수송기가 소통 착오로 일본...\n",
      "   링크: //news.nate.com/view/20250724n41279?mid=n0100\n",
      "   이미지 URL: https://thumbnews.nateimg.co.kr/news90///news.nateimg.co.kr/orgImg/aj/2025/07/24/20250724212820721602.jpg\n"
     ]
    },
    {
     "data": {
      "text/html": [
       "<img src=\"https://thumbnews.nateimg.co.kr/news90///news.nateimg.co.kr/orgImg/aj/2025/07/24/20250724212820721602.jpg\" width=\"150\"/>"
      ],
      "text/plain": [
       "<IPython.core.display.Image object>"
      ]
     },
     "metadata": {},
     "output_type": "display_data"
    },
    {
     "name": "stdout",
     "output_type": "stream",
     "text": [
      "\n",
      "16.\n",
      "   제목: \"돈 얼마나 많길래\"…6·27대출 규제後 190억 거래신고 나와…대체 어디?\n",
      "\t\t\t\t\t\t\t\t\t\t\t\t\t\t\t\t\t더펜트하우스청담 190억에 거래, 최고가 경신대출 규제에도 초고가 거래…강남·한남권 집중 정부의 6·27 대출 규제 이후에도 100억원 이상 초고가 아파트의 최고가 거래 ...\n",
      "   링크: //news.nate.com/view/20250724n40534?mid=n0100\n",
      "   이미지 URL: https://thumbnews.nateimg.co.kr/news90///news.nateimg.co.kr/orgImg/mk/2025/07/24/news-p.v1.20250724.49fe372b31ac400e96eb60a676296af2_P2.jpg\n"
     ]
    },
    {
     "data": {
      "text/html": [
       "<img src=\"https://thumbnews.nateimg.co.kr/news90///news.nateimg.co.kr/orgImg/mk/2025/07/24/news-p.v1.20250724.49fe372b31ac400e96eb60a676296af2_P2.jpg\" width=\"150\"/>"
      ],
      "text/plain": [
       "<IPython.core.display.Image object>"
      ]
     },
     "metadata": {},
     "output_type": "display_data"
    },
    {
     "name": "stdout",
     "output_type": "stream",
     "text": [
      "\n",
      "17.\n",
      "   제목: \"내 딸 목소리도 모를까 봐?\" 급하다는 울음소리, AI였다\n",
      "\t\t\t\t\t\t\t\t\t\t\t\t\t\t\t\t\t미국 플로리다의 한 여성이 인공지능(AI) 기술을 활용한 보이스피싱 피해자가 됐다. 미 매체 피플에 따르면 샤론 브라이트웰은 9일(현지시간) 딸의 목소리가 AI 기술로 날...\n",
      "   링크: //news.nate.com/view/20250724n41277?mid=n0100\n",
      "   이미지 URL: https://thumbnews.nateimg.co.kr/news90///news.nateimg.co.kr/orgImg/mh/2025/07/24/news-p.v1.20250723.404113884c3541cc8f5bed85a57254af_P1.png\n"
     ]
    },
    {
     "data": {
      "text/html": [
       "<img src=\"https://thumbnews.nateimg.co.kr/news90///news.nateimg.co.kr/orgImg/mh/2025/07/24/news-p.v1.20250723.404113884c3541cc8f5bed85a57254af_P1.png\" width=\"150\"/>"
      ],
      "text/plain": [
       "<IPython.core.display.Image object>"
      ]
     },
     "metadata": {},
     "output_type": "display_data"
    },
    {
     "name": "stdout",
     "output_type": "stream",
     "text": [
      "\n",
      "18.\n",
      "   제목: 김혜경 여사, 가평 수해 현장 찾아 자원봉사…\"진심 담아 위로\"\n",
      "\t\t\t\t\t\t\t\t\t\t\t\t\t\t\t\t\t이재명 대통령의 배우자인 김혜경 여사가 집중호우로 피해를 입은 경기도 가평군 수해복구 현장을 찾아 봉사활동을 했습니다. 대통령실에 따르면 김 여사는 오늘(24일) 비...\n",
      "   링크: //news.nate.com/view/20250724n41276?mid=n0100\n",
      "   이미지 URL: https://thumbnews.nateimg.co.kr/news90///news.nateimg.co.kr/orgImg/ny/2025/07/24/AKR20250724212928059_03_i.jpg\n"
     ]
    },
    {
     "data": {
      "text/html": [
       "<img src=\"https://thumbnews.nateimg.co.kr/news90///news.nateimg.co.kr/orgImg/ny/2025/07/24/AKR20250724212928059_03_i.jpg\" width=\"150\"/>"
      ],
      "text/plain": [
       "<IPython.core.display.Image object>"
      ]
     },
     "metadata": {},
     "output_type": "display_data"
    },
    {
     "name": "stdout",
     "output_type": "stream",
     "text": [
      "\n",
      "19.\n",
      "   제목: 전교조, 넷플릭스 시리즈 '참교육' 제작 중단 촉구…\"교사 모욕\"\n",
      "\t\t\t\t\t\t\t\t\t\t\t\t\t\t\t\t\t교원과 시민단체가 공무원이 문제 학생과 교사 등을 폭행하는 내용을 담은 드라마 ‘참교육’의 제작을 중단하라고 촉구했다. 전국교직원노동조합(전교조)과 평등교육실현...\n",
      "   링크: //news.nate.com/view/20250724n41275?mid=n0100\n",
      "   이미지 URL: https://thumbnews.nateimg.co.kr/news90///news.nateimg.co.kr/orgImg/mh/2025/07/24/news-p.v1.20250723.00fdf0bcfd5e46c99dfbf1fae5d1d429_P1.jpg\n"
     ]
    },
    {
     "data": {
      "text/html": [
       "<img src=\"https://thumbnews.nateimg.co.kr/news90///news.nateimg.co.kr/orgImg/mh/2025/07/24/news-p.v1.20250723.00fdf0bcfd5e46c99dfbf1fae5d1d429_P1.jpg\" width=\"150\"/>"
      ],
      "text/plain": [
       "<IPython.core.display.Image object>"
      ]
     },
     "metadata": {},
     "output_type": "display_data"
    },
    {
     "name": "stdout",
     "output_type": "stream",
     "text": [
      "\n",
      "20.\n",
      "   제목: [MD포토] 홍민기 '승리 미소'\n",
      "\t\t\t\t\t\t\t\t\t\t\t\t\t\t\t\t\t[마이데일리 = 유진형 기자] 24일 오후 서울 고척스카이돔에서 열린 '2025 신한 SOL뱅크 KBO 리그' 롯데 자이언츠와 키움 히어로즈의 경기.롯데 홍민기가 4-0으로 승리한 ...\n",
      "   링크: //news.nate.com/view/20250724n41274?mid=n0100\n",
      "   이미지 URL: https://thumbnews.nateimg.co.kr/news90///news.nateimg.co.kr/orgImg/my/2025/07/24/2025072421295367922_l.jpg\n"
     ]
    },
    {
     "data": {
      "text/html": [
       "<img src=\"https://thumbnews.nateimg.co.kr/news90///news.nateimg.co.kr/orgImg/my/2025/07/24/2025072421295367922_l.jpg\" width=\"150\"/>"
      ],
      "text/plain": [
       "<IPython.core.display.Image object>"
      ]
     },
     "metadata": {},
     "output_type": "display_data"
    },
    {
     "name": "stdout",
     "output_type": "stream",
     "text": [
      "\n",
      "--- 정치 뉴스 ---\n",
      "스크래핑 URL: https://news.nate.com/section?mid=n0101\n",
      "상태 코드: 200, OK: True\n",
      "뉴스 아이템을 찾을 수 없습니다. 선택자 또는 웹사이트 구조를 다시 확인하세요.\n",
      "\n",
      "--- 경제 뉴스 ---\n",
      "스크래핑 URL: https://news.nate.com/section?mid=n0102\n",
      "상태 코드: 200, OK: True\n",
      "뉴스 아이템을 찾을 수 없습니다. 선택자 또는 웹사이트 구조를 다시 확인하세요.\n",
      "\n",
      "--- 사회 뉴스 ---\n",
      "스크래핑 URL: https://news.nate.com/section?mid=n0103\n",
      "상태 코드: 200, OK: True\n",
      "뉴스 아이템을 찾을 수 없습니다. 선택자 또는 웹사이트 구조를 다시 확인하세요.\n",
      "\n",
      "--- 세계 뉴스 ---\n",
      "스크래핑 URL: https://news.nate.com/section?mid=n0104\n",
      "상태 코드: 200, OK: True\n",
      "뉴스 아이템을 찾을 수 없습니다. 선택자 또는 웹사이트 구조를 다시 확인하세요.\n",
      "\n",
      "--- IT/과학 뉴스 ---\n",
      "스크래핑 URL: https://news.nate.com/section?mid=n0105\n",
      "상태 코드: 200, OK: True\n",
      "뉴스 아이템을 찾을 수 없습니다. 선택자 또는 웹사이트 구조를 다시 확인하세요.\n"
     ]
    }
   ],
   "source": [
    "import requests\n",
    "from bs4 import BeautifulSoup\n",
    "from urllib.parse import urljoin\n",
    "from IPython.display import Image, display\n",
    "\n",
    "# Nate 뉴스 섹션별 정확한 mid 값을 포함한 딕셔너리\n",
    "section_dict = {\n",
    "    '최신뉴스': '100',\n",
    "    '정치': '101',\n",
    "    '경제': '102',\n",
    "    '사회': '103',\n",
    "    '세계': '104',\n",
    "    'IT/과학': '105'\n",
    "}\n",
    "\n",
    "def print_news(section_name):\n",
    "    \"\"\"\n",
    "    주어진 Nate 뉴스 섹션에서 기사 이미지, 제목, 링크를 스크래핑하고 출력합니다.\n",
    "\n",
    "    Args:\n",
    "        section_name (str): 뉴스 섹션 이름 (예: '최신뉴스', '정치').\n",
    "    \"\"\"\n",
    "    if section_name not in section_dict:\n",
    "        print(f\"오류: '{section_name}'은(는) 유효한 섹션이 아닙니다.\")\n",
    "        return\n",
    "\n",
    "    mid_value = section_dict[section_name]\n",
    "\n",
    "    # 섹션 이름에 따라 기본 URL 결정\n",
    "    if section_name == '최신뉴스':\n",
    "        base_url = 'https://news.nate.com/recent'\n",
    "        url = f'{base_url}?mid=n0{mid_value}'\n",
    "    else:\n",
    "        base_url = 'https://news.nate.com/section'\n",
    "        url = f'{base_url}?mid=n0{mid_value}'\n",
    "\n",
    "    print(f'\\n--- {section_name} 뉴스 ---')\n",
    "    print(f'스크래핑 URL: {url}')\n",
    "\n",
    "    # 요청 헤더 설정\n",
    "    req_header = {\n",
    "        \"user-agent\": \"Mozilla/5.0 (Windows NT 10.0; Win64; x64) AppleWebKit/537.36 (KHTML, like Gecko) Chrome/104.0.0.0 Safari/537.36\"\n",
    "    }\n",
    "\n",
    "    try:\n",
    "        res = requests.get(url, headers=req_header)\n",
    "        res.raise_for_status() # 4xx 또는 5xx 응답에 대해 HTTPError 발생\n",
    "    except requests.exceptions.RequestException as e:\n",
    "        print(f\"요청 실패: {e}\")\n",
    "        return\n",
    "\n",
    "    print(f\"상태 코드: {res.status_code}, OK: {res.ok}\")\n",
    "\n",
    "    html = res.text\n",
    "    soup = BeautifulSoup(html, \"html.parser\")\n",
    "\n",
    "    # 변경된 뉴스 아이템 선택자: 스크린샷을 기반으로\n",
    "    # 'div.mduSubjectList' 내부의 뉴스 기사 링크(href에 '//news.nate.com/view' 포함)를 직접 선택\n",
    "    news_items = soup.select('div.mduSubjectList a[href*=\"//news.nate.com/view\"]')\n",
    "\n",
    "    if not news_items:\n",
    "        # 혹시 'postSubjectContent' 아래의 다른 리스트 형태라면\n",
    "        news_items = soup.select('div.postSubjectContent a[href*=\"//news.nate.com/view\"]')\n",
    "\n",
    "    if not news_items:\n",
    "        print(\"뉴스 아이템을 찾을 수 없습니다. 선택자 또는 웹사이트 구조를 다시 확인하세요.\")\n",
    " \n",
    "        # print(\"HTML Head:\", soup.find('head'))\n",
    "        # print(\"HTML Body (첫 1000자):\", html[:1000])\n",
    "        return\n",
    "\n",
    "    print(f\"총 {len(news_items)}개의 뉴스 아이템 발견.\")\n",
    "\n",
    "    for idx, a_tag in enumerate(news_items, 1):\n",
    "        title = a_tag.text.strip() if a_tag.text else \"제목 없음\"\n",
    "        link = a_tag['href'] if a_tag.has_attr('href') else \"링크 없음\"\n",
    "\n",
    "        # 이미지 엘리먼트 찾기: a_tag 내부에서 img 태그를 찾음\n",
    "        img_tag = a_tag.select_one(\"img\")\n",
    "\n",
    "        image_url = \"이미지 없음\"\n",
    "        if img_tag and img_tag.has_attr('src'):\n",
    "            src = img_tag['src']\n",
    "            # //로 시작하는 src 경로를 올바른 절대 URL로 변환\n",
    "            image_url = urljoin('https:', src)\n",
    "\n",
    "        print(f'\\n{idx}.')\n",
    "        print(f'   제목: {title}')\n",
    "        print(f'   링크: {link}')\n",
    "        print(f'   이미지 URL: {image_url}')\n",
    "\n",
    "        # 이미지가 있을 경우 표시\n",
    "        if image_url != \"이미지 없음\":\n",
    "            try:\n",
    "                display(Image(url=image_url, width=150)) # 이미지 너비 조절 가능\n",
    "            except Exception as e:\n",
    "                print(f\"   이미지 표시 오류 ({image_url}): {e}\")\n",
    "        else:\n",
    "            print(\"   (표시할 이미지가 없습니다)\")\n",
    "\n",
    "# 모든 섹션에 대해 함수 실행\n",
    "sections_to_scrape = ['최신뉴스', '정치', '경제', '사회', '세계', 'IT/과학']\n",
    "for section in sections_to_scrape:\n",
    "    print_news(section)"
   ]
  },
  {
   "cell_type": "code",
   "execution_count": null,
   "id": "329b4b7f",
   "metadata": {},
   "outputs": [],
   "source": []
  }
 ],
 "metadata": {
  "kernelspec": {
   "display_name": "base",
   "language": "python",
   "name": "python3"
  },
  "language_info": {
   "codemirror_mode": {
    "name": "ipython",
    "version": 3
   },
   "file_extension": ".py",
   "mimetype": "text/x-python",
   "name": "python",
   "nbconvert_exporter": "python",
   "pygments_lexer": "ipython3",
   "version": "3.12.7"
  }
 },
 "nbformat": 4,
 "nbformat_minor": 5
}
